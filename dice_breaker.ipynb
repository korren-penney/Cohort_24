{
 "cells": [
  {
   "cell_type": "code",
   "execution_count": 1,
   "id": "8c8ebe5c",
   "metadata": {},
   "outputs": [
    {
     "name": "stdout",
     "output_type": "stream",
     "text": [
      "Rolling the die...\n",
      "The random number is:  5\n",
      "What is your favourite game to play?\n",
      "Roll again? yes/no: yes\n",
      "Rolling the die...\n",
      "The random number is:  1\n",
      "If you were invisible for a day, What would you do?\n",
      "Roll again? yes/no: yes\n",
      "Rolling the die...\n",
      "The random number is:  5\n",
      "What is your favourite game to play?\n",
      "Roll again? yes/no: yes\n",
      "Rolling the die...\n",
      "The random number is:  3\n",
      "What is you favourite food?\n",
      "Roll again? yes/no: yes\n",
      "Rolling the die...\n",
      "The random number is:  6\n",
      "What's one thing you are really good at?\n",
      "Roll again? yes/no: yes\n",
      "Rolling the die...\n",
      "The random number is:  6\n",
      "What's one thing you are really good at?\n",
      "Roll again? yes/no: no\n",
      "This message will only print at the end\n"
     ]
    }
   ],
   "source": [
    "# The purpose of this program is to use the random module in python \n",
    "# to roll a dice for our icebreaker today. \n",
    "# Korren is going to attempt to do this live, be prepared for typos.\n",
    "\n",
    "# import random library\n",
    "import random\n",
    "\n",
    "# declare our variables to determine the smallest and largest numbers\n",
    "min = 1\n",
    "max = 6\n",
    "\n",
    "# declare var to keep track of if we want to roll again\n",
    "# set it to yes\n",
    "roll_again = \"yes\"\n",
    "\n",
    "# Create a loop to ask our questions\n",
    "while roll_again == 'yes':\n",
    "    # print a message to indicate the die is rolling\n",
    "    print(\"Rolling the die...\")\n",
    "    \n",
    "    # declare var for die value and assign it a random number\n",
    "    die_value = (random.randint(min,max))\n",
    "    \n",
    "    # print the random number\n",
    "    print(\"The random number is: \", die_value)\n",
    "    \n",
    "    # create an if statement to tell the program what to do for each number\n",
    "    if die_value == 1:\n",
    "        print(\"If you were invisible for a day, What would you do?\")\n",
    "    elif die_value == 2:\n",
    "        print(\"If you could choose a super power, what would it be?\")\n",
    "    elif die_value == 3: \n",
    "        print(\"What is you favourite food?\")\n",
    "    elif die_value == 4:\n",
    "        print(\"Who is your favourite book or movie character?\")\n",
    "    elif die_value == 5:\n",
    "        print(\"What is your favourite game to play?\")\n",
    "    else:\n",
    "        print(\"What's one thing you are really good at?\")\n",
    "        \n",
    "    # prompt the user to roll again\n",
    "    roll_again = input(\"Roll again? yes/no: \")\n",
    "    \n",
    "print(\"This message will only print at the end\")"
   ]
  },
  {
   "cell_type": "code",
   "execution_count": null,
   "id": "f7df8cb5",
   "metadata": {},
   "outputs": [],
   "source": []
  }
 ],
 "metadata": {
  "kernelspec": {
   "display_name": "Python 3 (ipykernel)",
   "language": "python",
   "name": "python3"
  },
  "language_info": {
   "codemirror_mode": {
    "name": "ipython",
    "version": 3
   },
   "file_extension": ".py",
   "mimetype": "text/x-python",
   "name": "python",
   "nbconvert_exporter": "python",
   "pygments_lexer": "ipython3",
   "version": "3.10.9"
  }
 },
 "nbformat": 4,
 "nbformat_minor": 5
}
